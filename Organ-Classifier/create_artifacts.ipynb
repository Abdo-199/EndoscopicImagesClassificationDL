{
 "cells": [
  {
   "cell_type": "code",
   "execution_count": 9,
   "metadata": {},
   "outputs": [
    {
     "data": {
      "text/plain": [
       "device(type='cpu')"
      ]
     },
     "execution_count": 9,
     "metadata": {},
     "output_type": "execute_result"
    }
   ],
   "source": [
    "import os\n",
    "from pathlib import Path\n",
    "from PIL import Image\n",
    "import torch\n",
    "from torchvision import transforms\n",
    "import shutil\n",
    "import os\n",
    "import sys\n",
    "import shutil\n",
    "import wandb\n",
    "%reload_ext autoreload\n",
    "%autoreload 2\n",
    "sys.path.append('../')\n",
    "from Helper_Modules import resize\n",
    "from Helper_Modules import data_setups, utils, model_setups\n",
    "from Helper_Modules.dataset_creation import create_organ_dataset_1, create_organ_dataset_2, find_cells_by_keyword\n",
    "# Device configuration\n",
    "device = torch.device(\"cuda:0\" if torch.cuda.is_available() else \"cpu\")\n",
    "device"
   ]
  },
  {
   "cell_type": "code",
   "execution_count": 3,
   "metadata": {},
   "outputs": [],
   "source": [
    "file_path = \"..\\\\data\\\\allData\\\\Data_Map.xlsx\" \n"
   ]
  },
  {
   "cell_type": "markdown",
   "metadata": {},
   "source": [
    "# create a folder for the first collection of the data"
   ]
  },
  {
   "cell_type": "code",
   "execution_count": 6,
   "metadata": {},
   "outputs": [
    {
     "data": {
      "text/plain": [
       "(37, 220, 128, 307, 78, 111)"
      ]
     },
     "execution_count": 6,
     "metadata": {},
     "output_type": "execute_result"
    }
   ],
   "source": [
    "test_ear    =   find_cells_by_keyword(file_path, {3:\"Ear\"   , 4:\"first\", 5:\"test\" })\n",
    "train_ear   =   find_cells_by_keyword(file_path, {3:\"Ear\"   , 4:\"first\", 5:\"train\"} )\n",
    "test_nose   =   find_cells_by_keyword(file_path, {3:\"Nose\"  , 4:\"first\", 5:\"test\" })\n",
    "train_nose  =   find_cells_by_keyword(file_path, {3:\"Nose\"  , 4:\"first\", 5:\"train\"} )\n",
    "test_vocal  =   find_cells_by_keyword(file_path, {3:\"vocal\" , 4:\"first\", 5:\"test\" })\n",
    "train_vocal =   find_cells_by_keyword(file_path, {3:\"vocal\" , 4:\"first\", 5:\"train\"} )\n",
    "\n",
    "len(test_ear), len(train_ear), len(test_nose), len(train_nose), len(test_vocal), len(train_vocal)"
   ]
  },
  {
   "cell_type": "code",
   "execution_count": 8,
   "metadata": {},
   "outputs": [],
   "source": [
    "create_organ_dataset_1(\"organ_0\", test_ear, train_ear, test_nose, train_nose, test_vocal, train_vocal)"
   ]
  },
  {
   "cell_type": "markdown",
   "metadata": {},
   "source": [
    "# V0\n",
    "noisy data set, uncropped, and imbalanced"
   ]
  },
  {
   "cell_type": "code",
   "execution_count": 12,
   "metadata": {},
   "outputs": [
    {
     "data": {
      "text/plain": [
       "{'dataset_dir': 'data\\\\organ_0',\n",
       " 'project_name': 'Organ-Classifier-1',\n",
       " 'transforms_': [Resize(size=(224, 224), interpolation=bilinear, max_size=None, antialias=warn),\n",
       "  ToTensor(),\n",
       "  Normalize(mean=[0.485, 0.456, 0.406], std=[0.229, 0.224, 0.225])],\n",
       " 'name': 'organ_0',\n",
       " 'description': 'noisy data set, uncropped, and imbalanced'}"
      ]
     },
     "execution_count": 12,
     "metadata": {},
     "output_type": "execute_result"
    }
   ],
   "source": [
    "Organ_0_path = \"data\\\\organ_0\"\n",
    "Organ_0_config = dict(dataset_dir=Organ_0_path,\n",
    "                      project_name=\"Organ-Classifier-1\",\n",
    "                      transforms_=[transforms.Resize((224,224)),\n",
    "                                   transforms.ToTensor(),\n",
    "                                   transforms.Normalize(mean=[0.485, 0.456, 0.406],std=[0.229, 0.224, 0.225])],\n",
    "                      name=\"organ_0\",\n",
    "                      description=\"noisy data set, uncropped, and imbalanced\")\n",
    "Organ_0_config"
   ]
  },
  {
   "cell_type": "code",
   "execution_count": 14,
   "metadata": {},
   "outputs": [
    {
     "name": "stderr",
     "output_type": "stream",
     "text": [
      "Failed to detect the name of this notebook, you can set it manually with the WANDB_NOTEBOOK_NAME environment variable to enable code saving.\n",
      "\u001b[34m\u001b[1mwandb\u001b[0m: Currently logged in as: \u001b[33melsharkawi99\u001b[0m (\u001b[33md-ml\u001b[0m). Use \u001b[1m`wandb login --relogin`\u001b[0m to force relogin\n"
     ]
    },
    {
     "data": {
      "text/html": [
       "wandb version 0.15.5 is available!  To upgrade, please run:\n",
       " $ pip install wandb --upgrade"
      ],
      "text/plain": [
       "<IPython.core.display.HTML object>"
      ]
     },
     "metadata": {},
     "output_type": "display_data"
    },
    {
     "data": {
      "text/html": [
       "Tracking run with wandb version 0.15.4"
      ],
      "text/plain": [
       "<IPython.core.display.HTML object>"
      ]
     },
     "metadata": {},
     "output_type": "display_data"
    },
    {
     "data": {
      "text/html": [
       "Run data is saved locally in <code>d:\\BachelorArbeit\\GitClone\\2023_endoscopy_classification_elsharkawi\\Organ-Classifier\\wandb\\run-20230721_121931-getpuv98</code>"
      ],
      "text/plain": [
       "<IPython.core.display.HTML object>"
      ]
     },
     "metadata": {},
     "output_type": "display_data"
    },
    {
     "data": {
      "text/html": [
       "Syncing run <strong><a href='https://wandb.ai/d-ml/Organ-Classifier-1/runs/getpuv98' target=\"_blank\">jolly-pyramid-1</a></strong> to <a href='https://wandb.ai/d-ml/Organ-Classifier-1' target=\"_blank\">Weights & Biases</a> (<a href='https://wandb.me/run' target=\"_blank\">docs</a>)<br/>"
      ],
      "text/plain": [
       "<IPython.core.display.HTML object>"
      ]
     },
     "metadata": {},
     "output_type": "display_data"
    },
    {
     "data": {
      "text/html": [
       " View project at <a href='https://wandb.ai/d-ml/Organ-Classifier-1' target=\"_blank\">https://wandb.ai/d-ml/Organ-Classifier-1</a>"
      ],
      "text/plain": [
       "<IPython.core.display.HTML object>"
      ]
     },
     "metadata": {},
     "output_type": "display_data"
    },
    {
     "data": {
      "text/html": [
       " View run at <a href='https://wandb.ai/d-ml/Organ-Classifier-1/runs/getpuv98' target=\"_blank\">https://wandb.ai/d-ml/Organ-Classifier-1/runs/getpuv98</a>"
      ],
      "text/plain": [
       "<IPython.core.display.HTML object>"
      ]
     },
     "metadata": {},
     "output_type": "display_data"
    },
    {
     "data": {
      "text/html": [
       "Waiting for W&B process to finish... <strong style=\"color:green\">(success).</strong>"
      ],
      "text/plain": [
       "<IPython.core.display.HTML object>"
      ]
     },
     "metadata": {},
     "output_type": "display_data"
    },
    {
     "data": {
      "text/html": [
       " View run <strong style=\"color:#cdcd00\">jolly-pyramid-1</strong> at: <a href='https://wandb.ai/d-ml/Organ-Classifier-1/runs/getpuv98' target=\"_blank\">https://wandb.ai/d-ml/Organ-Classifier-1/runs/getpuv98</a><br/>Synced 5 W&B file(s), 0 media file(s), 2 artifact file(s) and 0 other file(s)"
      ],
      "text/plain": [
       "<IPython.core.display.HTML object>"
      ]
     },
     "metadata": {},
     "output_type": "display_data"
    },
    {
     "data": {
      "text/html": [
       "Find logs at: <code>.\\wandb\\run-20230721_121931-getpuv98\\logs</code>"
      ],
      "text/plain": [
       "<IPython.core.display.HTML object>"
      ]
     },
     "metadata": {},
     "output_type": "display_data"
    }
   ],
   "source": [
    "data_setups.load_and_log_IF(Organ_0_config)"
   ]
  },
  {
   "cell_type": "markdown",
   "metadata": {},
   "source": [
    "# V1\n",
    "train dataset is manually cropped"
   ]
  },
  {
   "cell_type": "code",
   "execution_count": 15,
   "metadata": {},
   "outputs": [
    {
     "data": {
      "text/plain": [
       "'data/organ_1'"
      ]
     },
     "execution_count": 15,
     "metadata": {},
     "output_type": "execute_result"
    }
   ],
   "source": [
    "shutil.copytree('data/organ_0/', 'data/organ_1')"
   ]
  },
  {
   "cell_type": "code",
   "execution_count": 16,
   "metadata": {},
   "outputs": [],
   "source": [
    "#all the ear images are 1920x1080, the position of the image is fixed\n",
    "image_path_list = list(Path(\"data/organ_1\").glob(\"train/Ear/*.png\"))\n",
    "new_imgs = []\n",
    "for path in image_path_list:\n",
    "    with Image.open(path) as img:\n",
    "        width, height = img.size\n",
    "        left = (width - 770)/2\n",
    "        top = (height - 770)/2\n",
    "        right = (width + 770)/2\n",
    "        bottom = (height + 770)/2\n",
    "        img = img.crop((left, top, right, bottom))\n",
    "        new_imgs.append(img)\n",
    "        img.save(path)"
   ]
  },
  {
   "cell_type": "code",
   "execution_count": 17,
   "metadata": {},
   "outputs": [],
   "source": [
    "# only strobo_1 vidio has a black frame\n",
    "image_path_list = list(Path(\"data/organ_1\").glob(\"train/VocalFolds/strobo_1*.png\"))\n",
    "new_imgs = []\n",
    "for path in image_path_list:\n",
    "    with Image.open(path) as img:\n",
    "        width, height = img.size\n",
    "        left = (width - 1280)/2\n",
    "        top = (height - 1080)/2\n",
    "        right = (width + 1610)/2\n",
    "        bottom = (height + 1080)/2\n",
    "        img = img.crop((left, top, right, bottom))\n",
    "        new_imgs.append(img)\n",
    "        img.save(path)"
   ]
  },
  {
   "cell_type": "code",
   "execution_count": 18,
   "metadata": {},
   "outputs": [
    {
     "data": {
      "text/plain": [
       "{'dataset_dir': 'data\\\\organ_1',\n",
       " 'project_name': 'Organ-Classifier-1',\n",
       " 'transforms_': [Resize(size=(224, 224), interpolation=bilinear, max_size=None, antialias=warn),\n",
       "  ToTensor(),\n",
       "  Normalize(mean=[0.485, 0.456, 0.406], std=[0.229, 0.224, 0.225])],\n",
       " 'name': 'organ_1',\n",
       " 'description': 'noisy data set, train cropped, test not cropped, and imbalanced'}"
      ]
     },
     "execution_count": 18,
     "metadata": {},
     "output_type": "execute_result"
    }
   ],
   "source": [
    "Organ_1_path = \"data\\\\organ_1\"\n",
    "Organ_1_config = dict(dataset_dir=Organ_1_path,\n",
    "                      project_name=\"Organ-Classifier-1\",\n",
    "                      transforms_=[transforms.Resize((224,224)),\n",
    "                                   transforms.ToTensor(),\n",
    "                                   transforms.Normalize(mean=[0.485, 0.456, 0.406],std=[0.229, 0.224, 0.225])],\n",
    "                      name=\"organ_1\",\n",
    "                      description=\"noisy data set, train cropped, test not cropped, and imbalanced\")\n",
    "Organ_1_config"
   ]
  },
  {
   "cell_type": "code",
   "execution_count": 19,
   "metadata": {},
   "outputs": [
    {
     "data": {
      "text/html": [
       "wandb version 0.15.5 is available!  To upgrade, please run:\n",
       " $ pip install wandb --upgrade"
      ],
      "text/plain": [
       "<IPython.core.display.HTML object>"
      ]
     },
     "metadata": {},
     "output_type": "display_data"
    },
    {
     "data": {
      "text/html": [
       "Tracking run with wandb version 0.15.4"
      ],
      "text/plain": [
       "<IPython.core.display.HTML object>"
      ]
     },
     "metadata": {},
     "output_type": "display_data"
    },
    {
     "data": {
      "text/html": [
       "Run data is saved locally in <code>d:\\BachelorArbeit\\GitClone\\2023_endoscopy_classification_elsharkawi\\Organ-Classifier\\wandb\\run-20230721_122644-0zi8ga7s</code>"
      ],
      "text/plain": [
       "<IPython.core.display.HTML object>"
      ]
     },
     "metadata": {},
     "output_type": "display_data"
    },
    {
     "data": {
      "text/html": [
       "Syncing run <strong><a href='https://wandb.ai/d-ml/Organ-Classifier-1/runs/0zi8ga7s' target=\"_blank\">earthy-dragon-2</a></strong> to <a href='https://wandb.ai/d-ml/Organ-Classifier-1' target=\"_blank\">Weights & Biases</a> (<a href='https://wandb.me/run' target=\"_blank\">docs</a>)<br/>"
      ],
      "text/plain": [
       "<IPython.core.display.HTML object>"
      ]
     },
     "metadata": {},
     "output_type": "display_data"
    },
    {
     "data": {
      "text/html": [
       " View project at <a href='https://wandb.ai/d-ml/Organ-Classifier-1' target=\"_blank\">https://wandb.ai/d-ml/Organ-Classifier-1</a>"
      ],
      "text/plain": [
       "<IPython.core.display.HTML object>"
      ]
     },
     "metadata": {},
     "output_type": "display_data"
    },
    {
     "data": {
      "text/html": [
       " View run at <a href='https://wandb.ai/d-ml/Organ-Classifier-1/runs/0zi8ga7s' target=\"_blank\">https://wandb.ai/d-ml/Organ-Classifier-1/runs/0zi8ga7s</a>"
      ],
      "text/plain": [
       "<IPython.core.display.HTML object>"
      ]
     },
     "metadata": {},
     "output_type": "display_data"
    },
    {
     "data": {
      "text/html": [
       "Waiting for W&B process to finish... <strong style=\"color:green\">(success).</strong>"
      ],
      "text/plain": [
       "<IPython.core.display.HTML object>"
      ]
     },
     "metadata": {},
     "output_type": "display_data"
    },
    {
     "data": {
      "text/html": [
       " View run <strong style=\"color:#cdcd00\">earthy-dragon-2</strong> at: <a href='https://wandb.ai/d-ml/Organ-Classifier-1/runs/0zi8ga7s' target=\"_blank\">https://wandb.ai/d-ml/Organ-Classifier-1/runs/0zi8ga7s</a><br/>Synced 5 W&B file(s), 0 media file(s), 2 artifact file(s) and 0 other file(s)"
      ],
      "text/plain": [
       "<IPython.core.display.HTML object>"
      ]
     },
     "metadata": {},
     "output_type": "display_data"
    },
    {
     "data": {
      "text/html": [
       "Find logs at: <code>.\\wandb\\run-20230721_122644-0zi8ga7s\\logs</code>"
      ],
      "text/plain": [
       "<IPython.core.display.HTML object>"
      ]
     },
     "metadata": {},
     "output_type": "display_data"
    }
   ],
   "source": [
    "data_setups.load_and_log_IF(Organ_1_config)"
   ]
  },
  {
   "cell_type": "markdown",
   "metadata": {},
   "source": [
    "# V2\n",
    "train and test datasets are uniformly preproccesed "
   ]
  },
  {
   "cell_type": "code",
   "execution_count": 21,
   "metadata": {},
   "outputs": [
    {
     "data": {
      "text/plain": [
       "'data/organ_2'"
      ]
     },
     "execution_count": 21,
     "metadata": {},
     "output_type": "execute_result"
    }
   ],
   "source": [
    "shutil.copytree('data/organ_0/', 'data/organ_2')"
   ]
  },
  {
   "cell_type": "code",
   "execution_count": 28,
   "metadata": {},
   "outputs": [
    {
     "data": {
      "text/plain": [
       "881"
      ]
     },
     "execution_count": 28,
     "metadata": {},
     "output_type": "execute_result"
    }
   ],
   "source": [
    "dataset_2_paths = list(Path(\"data\\\\organ_2\").glob(\"*\\\\*\\\\*.png\"))\n",
    "len(dataset_2_paths)"
   ]
  },
  {
   "cell_type": "code",
   "execution_count": 29,
   "metadata": {},
   "outputs": [],
   "source": [
    "for im in dataset_2_paths:\n",
    "    resize.to_square_save(im, os.path.join('data', 'organ_2'))"
   ]
  },
  {
   "cell_type": "code",
   "execution_count": 30,
   "metadata": {},
   "outputs": [
    {
     "data": {
      "text/plain": [
       "{'dataset_dir': 'data\\\\organ_2',\n",
       " 'project_name': 'Organ-Classifier-1',\n",
       " 'transforms_': [ToTensor(),\n",
       "  Normalize(mean=[0.485, 0.456, 0.406], std=[0.229, 0.224, 0.225])],\n",
       " 'name': 'organ_2',\n",
       " 'description': 'noisy data set, all cropped, and imbalanced'}"
      ]
     },
     "execution_count": 30,
     "metadata": {},
     "output_type": "execute_result"
    }
   ],
   "source": [
    "Organ_2_path = \"data\\\\organ_2\"\n",
    "Organ_2_config = dict(dataset_dir=Organ_2_path,\n",
    "                      project_name=\"Organ-Classifier-1\",\n",
    "                      transforms_=[transforms.ToTensor(),\n",
    "                                   transforms.Normalize(mean=[0.485, 0.456, 0.406],std=[0.229, 0.224, 0.225])],\n",
    "                      name=\"organ_2\",\n",
    "                      description=\"noisy data set, all cropped, and imbalanced\")\n",
    "Organ_2_config"
   ]
  },
  {
   "cell_type": "code",
   "execution_count": 32,
   "metadata": {},
   "outputs": [
    {
     "data": {
      "text/html": [
       "wandb version 0.15.5 is available!  To upgrade, please run:\n",
       " $ pip install wandb --upgrade"
      ],
      "text/plain": [
       "<IPython.core.display.HTML object>"
      ]
     },
     "metadata": {},
     "output_type": "display_data"
    },
    {
     "data": {
      "text/html": [
       "Tracking run with wandb version 0.15.4"
      ],
      "text/plain": [
       "<IPython.core.display.HTML object>"
      ]
     },
     "metadata": {},
     "output_type": "display_data"
    },
    {
     "data": {
      "text/html": [
       "Run data is saved locally in <code>d:\\BachelorArbeit\\GitClone\\2023_endoscopy_classification_elsharkawi\\Organ-Classifier\\wandb\\run-20230721_124522-pw28u7zk</code>"
      ],
      "text/plain": [
       "<IPython.core.display.HTML object>"
      ]
     },
     "metadata": {},
     "output_type": "display_data"
    },
    {
     "data": {
      "text/html": [
       "Syncing run <strong><a href='https://wandb.ai/d-ml/Organ-Classifier-1/runs/pw28u7zk' target=\"_blank\">stilted-meadow-5</a></strong> to <a href='https://wandb.ai/d-ml/Organ-Classifier-1' target=\"_blank\">Weights & Biases</a> (<a href='https://wandb.me/run' target=\"_blank\">docs</a>)<br/>"
      ],
      "text/plain": [
       "<IPython.core.display.HTML object>"
      ]
     },
     "metadata": {},
     "output_type": "display_data"
    },
    {
     "data": {
      "text/html": [
       " View project at <a href='https://wandb.ai/d-ml/Organ-Classifier-1' target=\"_blank\">https://wandb.ai/d-ml/Organ-Classifier-1</a>"
      ],
      "text/plain": [
       "<IPython.core.display.HTML object>"
      ]
     },
     "metadata": {},
     "output_type": "display_data"
    },
    {
     "data": {
      "text/html": [
       " View run at <a href='https://wandb.ai/d-ml/Organ-Classifier-1/runs/pw28u7zk' target=\"_blank\">https://wandb.ai/d-ml/Organ-Classifier-1/runs/pw28u7zk</a>"
      ],
      "text/plain": [
       "<IPython.core.display.HTML object>"
      ]
     },
     "metadata": {},
     "output_type": "display_data"
    },
    {
     "data": {
      "text/html": [
       "Waiting for W&B process to finish... <strong style=\"color:green\">(success).</strong>"
      ],
      "text/plain": [
       "<IPython.core.display.HTML object>"
      ]
     },
     "metadata": {},
     "output_type": "display_data"
    },
    {
     "data": {
      "text/html": [
       " View run <strong style=\"color:#cdcd00\">stilted-meadow-5</strong> at: <a href='https://wandb.ai/d-ml/Organ-Classifier-1/runs/pw28u7zk' target=\"_blank\">https://wandb.ai/d-ml/Organ-Classifier-1/runs/pw28u7zk</a><br/>Synced 5 W&B file(s), 0 media file(s), 2 artifact file(s) and 0 other file(s)"
      ],
      "text/plain": [
       "<IPython.core.display.HTML object>"
      ]
     },
     "metadata": {},
     "output_type": "display_data"
    },
    {
     "data": {
      "text/html": [
       "Find logs at: <code>.\\wandb\\run-20230721_124522-pw28u7zk\\logs</code>"
      ],
      "text/plain": [
       "<IPython.core.display.HTML object>"
      ]
     },
     "metadata": {},
     "output_type": "display_data"
    }
   ],
   "source": [
    "data_setups.load_and_log_IF(Organ_2_config)"
   ]
  },
  {
   "cell_type": "markdown",
   "metadata": {},
   "source": [
    "# functions to create a dataset and equalizes the classes\n",
    "For creating the seccond collection of the data, a new function has been written. To make it easier to look over the data before choosing the splits\n",
    "\n",
    "Helper_Modules.dataset_creation.create_organ_dataset_n()\n",
    "\n",
    "This fuction does the following:\n",
    " - creates a copy from the original data source and stores iit with the same name as the dataset_base\n",
    " - calculates a train test split of 5:1. ((The split is based on the class with less images))\n",
    " - prints all the patient directories for the user and asks for the names of the patients to use as test data\n",
    " - shuffles the list of the choosen images and strts moving them to the test directories until the max split number is reached and delets the rest, so it's guranteed these patients will not be used in the train dataset\n",
    " - calculate the ´min_image_count´ among all the classes again (while chossing test patients, more images might have been deleted) \n",
    " - after shuffling the list of all the images in each class, so images from each patient are used, the ´min_image_count´will be moved to the train dirs\n"
   ]
  },
  {
   "cell_type": "markdown",
   "metadata": {},
   "source": [
    "# V3: imbalanced dataset\n",
    "cropped, noisy, imbalanced\n",
    "test patients: \n",
    "- Ear_6_1,Ear_6_2\n",
    "- Nose_3_2\n",
    "- Vocal_1,Vocal_4"
   ]
  },
  {
   "cell_type": "code",
   "execution_count": 10,
   "metadata": {},
   "outputs": [
    {
     "name": "stdout",
     "output_type": "stream",
     "text": [
      "70 in Ear_1_1\n",
      "57 in Ear_1_2\n",
      "32 in Ear_2_1\n",
      "61 in Ear_2_2\n",
      "37 in Ear_3_1\n",
      "56 in Ear_4_1\n",
      "66 in Ear_4_2\n",
      "97 in Ear_5_1\n",
      "71 in Ear_5_2\n",
      "38 in Ear_6_1\n",
      "69 in Ear_6_2\n",
      "65 in Ear_7_1\n",
      "40 in Ear_7_2\n",
      "\n",
      "------------------------------------------\n",
      "\n",
      "78 in Nose_1_1\n",
      "50 in Nose_1_2\n",
      "102 in Nose_2_1\n",
      "81 in Nose_2_2\n",
      "124 in Nose_3_2\n",
      "101 in Nose_4_1\n",
      "126 in Nose_4_2\n",
      "100 in Nose_5_1\n",
      "110 in Nose_5_2\n",
      "100 in Nose_6_1\n",
      "76 in Nose_6_2\n",
      "\n",
      "------------------------------------------\n",
      "\n",
      "51 in Vocal_1\n",
      "36 in Vocal_2\n",
      "42 in Vocal_3\n",
      "60 in Vocal_4\n",
      "43 in Vocal_5\n",
      "57 in Vocal_6\n",
      "75 in Vocal_7\n",
      "55 in Vocal_8\n",
      "71 in Vocal_9\n",
      "\n",
      "------------------------------------------\n",
      "\n",
      "min image in one class: 490\n",
      "select 98 images for the test dataset and delete it from the base dir. In case you did't do it\n",
      "select 392 images for the test dataset and delete it from the base dir. In case you did't do it\n",
      "inter the test directories for each organ splited by \",\"\n"
     ]
    }
   ],
   "source": [
    "create_organ_dataset_2(Path(\"data\\\\Organ_3\"), [\"Ear\", \"Nose\", \"VocalFolds\"], Path(\"..\\\\data\\\\allData\"), False)"
   ]
  },
  {
   "cell_type": "code",
   "execution_count": 39,
   "metadata": {},
   "outputs": [
    {
     "data": {
      "text/plain": [
       "2297"
      ]
     },
     "execution_count": 39,
     "metadata": {},
     "output_type": "execute_result"
    }
   ],
   "source": [
    "organ_3_paths = list(Path(\"data/organ_3/\").glob(\"*/*/*.png\"))\n",
    "len(organ_3_paths)"
   ]
  },
  {
   "cell_type": "code",
   "execution_count": 40,
   "metadata": {},
   "outputs": [],
   "source": [
    "for im in organ_3_paths:\n",
    "    resize.to_square_save(im, \"data/organ_3/\")"
   ]
  },
  {
   "cell_type": "code",
   "execution_count": 41,
   "metadata": {},
   "outputs": [
    {
     "data": {
      "text/plain": [
       "{'dataset_dir': 'data/organ_3/',\n",
       " 'project_name': 'Organ-Classifier-1',\n",
       " 'transforms_': [ToTensor(),\n",
       "  Normalize(mean=[0.485, 0.456, 0.406], std=[0.229, 0.224, 0.225])],\n",
       " 'name': 'organ_3',\n",
       " 'description': 'more images, noisy, and imbalanced'}"
      ]
     },
     "execution_count": 41,
     "metadata": {},
     "output_type": "execute_result"
    }
   ],
   "source": [
    "organ_3_path = \"data/organ_3/\"\n",
    "organ_3_config = dict(dataset_dir=organ_3_path,\n",
    "                      project_name=\"Organ-Classifier-1\",\n",
    "                      transforms_=[transforms.ToTensor(),\n",
    "                                   transforms.Normalize(mean=[0.485, 0.456, 0.406],std=[0.229, 0.224, 0.225])],\n",
    "                      name=\"organ_3\",\n",
    "                      description=\"more images, noisy, and imbalanced\")\n",
    "organ_3_config"
   ]
  },
  {
   "cell_type": "code",
   "execution_count": 42,
   "metadata": {},
   "outputs": [
    {
     "data": {
      "text/html": [
       "wandb version 0.15.5 is available!  To upgrade, please run:\n",
       " $ pip install wandb --upgrade"
      ],
      "text/plain": [
       "<IPython.core.display.HTML object>"
      ]
     },
     "metadata": {},
     "output_type": "display_data"
    },
    {
     "data": {
      "text/html": [
       "Tracking run with wandb version 0.15.4"
      ],
      "text/plain": [
       "<IPython.core.display.HTML object>"
      ]
     },
     "metadata": {},
     "output_type": "display_data"
    },
    {
     "data": {
      "text/html": [
       "Run data is saved locally in <code>d:\\BachelorArbeit\\GitClone\\2023_endoscopy_classification_elsharkawi\\Organ-Classifier\\wandb\\run-20230721_130300-lz03mcy9</code>"
      ],
      "text/plain": [
       "<IPython.core.display.HTML object>"
      ]
     },
     "metadata": {},
     "output_type": "display_data"
    },
    {
     "data": {
      "text/html": [
       "Syncing run <strong><a href='https://wandb.ai/d-ml/Organ-Classifier-1/runs/lz03mcy9' target=\"_blank\">kind-smoke-6</a></strong> to <a href='https://wandb.ai/d-ml/Organ-Classifier-1' target=\"_blank\">Weights & Biases</a> (<a href='https://wandb.me/run' target=\"_blank\">docs</a>)<br/>"
      ],
      "text/plain": [
       "<IPython.core.display.HTML object>"
      ]
     },
     "metadata": {},
     "output_type": "display_data"
    },
    {
     "data": {
      "text/html": [
       " View project at <a href='https://wandb.ai/d-ml/Organ-Classifier-1' target=\"_blank\">https://wandb.ai/d-ml/Organ-Classifier-1</a>"
      ],
      "text/plain": [
       "<IPython.core.display.HTML object>"
      ]
     },
     "metadata": {},
     "output_type": "display_data"
    },
    {
     "data": {
      "text/html": [
       " View run at <a href='https://wandb.ai/d-ml/Organ-Classifier-1/runs/lz03mcy9' target=\"_blank\">https://wandb.ai/d-ml/Organ-Classifier-1/runs/lz03mcy9</a>"
      ],
      "text/plain": [
       "<IPython.core.display.HTML object>"
      ]
     },
     "metadata": {},
     "output_type": "display_data"
    },
    {
     "data": {
      "text/html": [
       "Waiting for W&B process to finish... <strong style=\"color:green\">(success).</strong>"
      ],
      "text/plain": [
       "<IPython.core.display.HTML object>"
      ]
     },
     "metadata": {},
     "output_type": "display_data"
    },
    {
     "data": {
      "text/html": [
       " View run <strong style=\"color:#cdcd00\">kind-smoke-6</strong> at: <a href='https://wandb.ai/d-ml/Organ-Classifier-1/runs/lz03mcy9' target=\"_blank\">https://wandb.ai/d-ml/Organ-Classifier-1/runs/lz03mcy9</a><br/>Synced 5 W&B file(s), 0 media file(s), 2 artifact file(s) and 0 other file(s)"
      ],
      "text/plain": [
       "<IPython.core.display.HTML object>"
      ]
     },
     "metadata": {},
     "output_type": "display_data"
    },
    {
     "data": {
      "text/html": [
       "Find logs at: <code>.\\wandb\\run-20230721_130300-lz03mcy9\\logs</code>"
      ],
      "text/plain": [
       "<IPython.core.display.HTML object>"
      ]
     },
     "metadata": {},
     "output_type": "display_data"
    }
   ],
   "source": [
    "data_setups.load_and_log_IF(organ_3_config)"
   ]
  },
  {
   "cell_type": "markdown",
   "metadata": {},
   "source": [
    "# V4: balanced noisy dataset\n",
    "balanced noisy dataset\n",
    "test patients: ear 6\n",
    "nose 3\n",
    "vocal 1,4"
   ]
  },
  {
   "cell_type": "code",
   "execution_count": 47,
   "metadata": {},
   "outputs": [
    {
     "name": "stdout",
     "output_type": "stream",
     "text": [
      "70 in Ear_1_1\n",
      "57 in Ear_1_2\n",
      "32 in Ear_2_1\n",
      "61 in Ear_2_2\n",
      "37 in Ear_3_1\n",
      "56 in Ear_4_1\n",
      "66 in Ear_4_2\n",
      "97 in Ear_5_1\n",
      "71 in Ear_5_2\n",
      "38 in Ear_6_1\n",
      "69 in Ear_6_2\n",
      "65 in Ear_7_1\n",
      "40 in Ear_7_2\n",
      "\n",
      "------------------------------------------\n",
      "\n",
      "78 in Nose_1_1\n",
      "50 in Nose_1_2\n",
      "102 in Nose_2_1\n",
      "81 in Nose_2_2\n",
      "124 in Nose_3_2\n",
      "101 in Nose_4_1\n",
      "126 in Nose_4_2\n",
      "100 in Nose_5_1\n",
      "110 in Nose_5_2\n",
      "100 in Nose_6_1\n",
      "76 in Nose_6_2\n",
      "\n",
      "------------------------------------------\n",
      "\n",
      "51 in Vocal_1\n",
      "36 in Vocal_2\n",
      "42 in Vocal_3\n",
      "60 in Vocal_4\n",
      "43 in Vocal_5\n",
      "57 in Vocal_6\n",
      "75 in Vocal_7\n",
      "55 in Vocal_8\n",
      "71 in Vocal_9\n",
      "\n",
      "------------------------------------------\n",
      "\n",
      "min image in one class: 490\n",
      "select 98 images for the test dataset and delete it from the base dir. In case you did't do it\n",
      "select 392 images for the test dataset and delete it from the base dir. In case you did't do it\n",
      "inter the test directories for each organ splited by \",\"\n"
     ]
    }
   ],
   "source": [
    "create_organ_dataset_n(Path(\"data/organ_4\"), [\"Ear\", \"Nose\", \"VocalFolds\"], Path(\"../data/allData\"))"
   ]
  },
  {
   "cell_type": "code",
   "execution_count": 48,
   "metadata": {},
   "outputs": [
    {
     "data": {
      "text/plain": [
       "1431"
      ]
     },
     "execution_count": 48,
     "metadata": {},
     "output_type": "execute_result"
    }
   ],
   "source": [
    "organ_4_paths = list(Path(\"data/organ_4/\").glob(\"*/*/*.png\"))\n",
    "len(organ_4_paths)"
   ]
  },
  {
   "cell_type": "code",
   "execution_count": 49,
   "metadata": {},
   "outputs": [],
   "source": [
    "for im in organ_4_paths:\n",
    "    resize.to_square_save(im, \"data/organ_4\")"
   ]
  },
  {
   "cell_type": "code",
   "execution_count": 50,
   "metadata": {},
   "outputs": [
    {
     "data": {
      "text/plain": [
       "{'dataset_dir': 'data/organ_4/',\n",
       " 'project_name': 'Organ-Classifier-1',\n",
       " 'transforms_': [ToTensor(),\n",
       "  Normalize(mean=[0.485, 0.456, 0.406], std=[0.229, 0.224, 0.225])],\n",
       " 'name': 'organ_4',\n",
       " 'description': 'balanced noisy dataset'}"
      ]
     },
     "execution_count": 50,
     "metadata": {},
     "output_type": "execute_result"
    }
   ],
   "source": [
    "Organ_4_path = \"data/organ_4/\"\n",
    "Organ_4_config = dict(dataset_dir=Organ_4_path,\n",
    "                      project_name=\"Organ-Classifier-1\",\n",
    "                      transforms_=[transforms.ToTensor(),\n",
    "                                   transforms.Normalize(mean=[0.485, 0.456, 0.406],std=[0.229, 0.224, 0.225])],\n",
    "                      name=\"organ_4\",\n",
    "                      description=\"balanced noisy dataset\")\n",
    "Organ_4_config"
   ]
  },
  {
   "cell_type": "code",
   "execution_count": 51,
   "metadata": {},
   "outputs": [
    {
     "data": {
      "text/html": [
       "wandb version 0.15.5 is available!  To upgrade, please run:\n",
       " $ pip install wandb --upgrade"
      ],
      "text/plain": [
       "<IPython.core.display.HTML object>"
      ]
     },
     "metadata": {},
     "output_type": "display_data"
    },
    {
     "data": {
      "text/html": [
       "Tracking run with wandb version 0.15.4"
      ],
      "text/plain": [
       "<IPython.core.display.HTML object>"
      ]
     },
     "metadata": {},
     "output_type": "display_data"
    },
    {
     "data": {
      "text/html": [
       "Run data is saved locally in <code>d:\\BachelorArbeit\\GitClone\\2023_endoscopy_classification_elsharkawi\\Organ-Classifier\\wandb\\run-20230721_131839-hx0mpw19</code>"
      ],
      "text/plain": [
       "<IPython.core.display.HTML object>"
      ]
     },
     "metadata": {},
     "output_type": "display_data"
    },
    {
     "data": {
      "text/html": [
       "Syncing run <strong><a href='https://wandb.ai/d-ml/Organ-Classifier-1/runs/hx0mpw19' target=\"_blank\">dazzling-sunset-7</a></strong> to <a href='https://wandb.ai/d-ml/Organ-Classifier-1' target=\"_blank\">Weights & Biases</a> (<a href='https://wandb.me/run' target=\"_blank\">docs</a>)<br/>"
      ],
      "text/plain": [
       "<IPython.core.display.HTML object>"
      ]
     },
     "metadata": {},
     "output_type": "display_data"
    },
    {
     "data": {
      "text/html": [
       " View project at <a href='https://wandb.ai/d-ml/Organ-Classifier-1' target=\"_blank\">https://wandb.ai/d-ml/Organ-Classifier-1</a>"
      ],
      "text/plain": [
       "<IPython.core.display.HTML object>"
      ]
     },
     "metadata": {},
     "output_type": "display_data"
    },
    {
     "data": {
      "text/html": [
       " View run at <a href='https://wandb.ai/d-ml/Organ-Classifier-1/runs/hx0mpw19' target=\"_blank\">https://wandb.ai/d-ml/Organ-Classifier-1/runs/hx0mpw19</a>"
      ],
      "text/plain": [
       "<IPython.core.display.HTML object>"
      ]
     },
     "metadata": {},
     "output_type": "display_data"
    },
    {
     "data": {
      "text/html": [
       "Waiting for W&B process to finish... <strong style=\"color:green\">(success).</strong>"
      ],
      "text/plain": [
       "<IPython.core.display.HTML object>"
      ]
     },
     "metadata": {},
     "output_type": "display_data"
    },
    {
     "data": {
      "text/html": [
       " View run <strong style=\"color:#cdcd00\">dazzling-sunset-7</strong> at: <a href='https://wandb.ai/d-ml/Organ-Classifier-1/runs/hx0mpw19' target=\"_blank\">https://wandb.ai/d-ml/Organ-Classifier-1/runs/hx0mpw19</a><br/>Synced 5 W&B file(s), 0 media file(s), 2 artifact file(s) and 0 other file(s)"
      ],
      "text/plain": [
       "<IPython.core.display.HTML object>"
      ]
     },
     "metadata": {},
     "output_type": "display_data"
    },
    {
     "data": {
      "text/html": [
       "Find logs at: <code>.\\wandb\\run-20230721_131839-hx0mpw19\\logs</code>"
      ],
      "text/plain": [
       "<IPython.core.display.HTML object>"
      ]
     },
     "metadata": {},
     "output_type": "display_data"
    }
   ],
   "source": [
    "data_setups.load_and_log_IF(Organ_4_config)"
   ]
  },
  {
   "cell_type": "markdown",
   "metadata": {},
   "source": [
    "# V5: train and test clean\n",
    "noise is filtered using the trained quality-classifier (tr_v0_64_1e5:v0)"
   ]
  },
  {
   "cell_type": "markdown",
   "metadata": {},
   "source": [
    "## cleaning the base dataset from noise using the quality model:tr_v0_64_1e5:v0"
   ]
  },
  {
   "cell_type": "code",
   "execution_count": 3,
   "metadata": {},
   "outputs": [
    {
     "name": "stdout",
     "output_type": "stream",
     "text": [
      "downloading the model: tr_v0_64_1e5:v0\n"
     ]
    },
    {
     "name": "stderr",
     "output_type": "stream",
     "text": [
      "Failed to detect the name of this notebook, you can set it manually with the WANDB_NOTEBOOK_NAME environment variable to enable code saving.\n",
      "\u001b[34m\u001b[1mwandb\u001b[0m: Currently logged in as: \u001b[33melsharkawi99\u001b[0m (\u001b[33md-ml\u001b[0m). Use \u001b[1m`wandb login --relogin`\u001b[0m to force relogin\n"
     ]
    },
    {
     "data": {
      "text/html": [
       "wandb version 0.15.5 is available!  To upgrade, please run:\n",
       " $ pip install wandb --upgrade"
      ],
      "text/plain": [
       "<IPython.core.display.HTML object>"
      ]
     },
     "metadata": {},
     "output_type": "display_data"
    },
    {
     "data": {
      "text/html": [
       "Tracking run with wandb version 0.15.4"
      ],
      "text/plain": [
       "<IPython.core.display.HTML object>"
      ]
     },
     "metadata": {},
     "output_type": "display_data"
    },
    {
     "data": {
      "text/html": [
       "Run data is saved locally in <code>d:\\BachelorArbeit\\GitClone\\2023_endoscopy_classification_elsharkawi\\Organ-Classifier\\wandb\\run-20230722_170352-xw43si74</code>"
      ],
      "text/plain": [
       "<IPython.core.display.HTML object>"
      ]
     },
     "metadata": {},
     "output_type": "display_data"
    },
    {
     "data": {
      "text/html": [
       "Syncing run <strong><a href='https://wandb.ai/d-ml/2023_endoscopy_classification_elsharkawi/runs/xw43si74' target=\"_blank\">glamorous-night-41</a></strong> to <a href='https://wandb.ai/d-ml/2023_endoscopy_classification_elsharkawi' target=\"_blank\">Weights & Biases</a> (<a href='https://wandb.me/run' target=\"_blank\">docs</a>)<br/>"
      ],
      "text/plain": [
       "<IPython.core.display.HTML object>"
      ]
     },
     "metadata": {},
     "output_type": "display_data"
    },
    {
     "data": {
      "text/html": [
       " View project at <a href='https://wandb.ai/d-ml/2023_endoscopy_classification_elsharkawi' target=\"_blank\">https://wandb.ai/d-ml/2023_endoscopy_classification_elsharkawi</a>"
      ],
      "text/plain": [
       "<IPython.core.display.HTML object>"
      ]
     },
     "metadata": {},
     "output_type": "display_data"
    },
    {
     "data": {
      "text/html": [
       " View run at <a href='https://wandb.ai/d-ml/2023_endoscopy_classification_elsharkawi/runs/xw43si74' target=\"_blank\">https://wandb.ai/d-ml/2023_endoscopy_classification_elsharkawi/runs/xw43si74</a>"
      ],
      "text/plain": [
       "<IPython.core.display.HTML object>"
      ]
     },
     "metadata": {},
     "output_type": "display_data"
    },
    {
     "name": "stderr",
     "output_type": "stream",
     "text": [
      "\u001b[34m\u001b[1mwandb\u001b[0m:   1 of 1 files downloaded.  \n"
     ]
    }
   ],
   "source": [
    "model = model_setups.efficientNet_b0(False, 2, device)\n",
    "tr_v0_64_1e5 = utils.download_model(\"Quality-Classifier-1\", \"tr_v0_64_1e5:v0\", \"trained_model.pth\", model)\n",
    "auto_transforms = [\n",
    "    transforms.ToTensor(), # this includes scaling the pixel values 0..1\n",
    "    transforms.Normalize(mean=[0.485, 0.456, 0.406],\n",
    "                         std=[0.229, 0.224, 0.225])\n",
    "]"
   ]
  },
  {
   "cell_type": "code",
   "execution_count": 4,
   "metadata": {},
   "outputs": [
    {
     "data": {
      "text/plain": [
       "2297"
      ]
     },
     "execution_count": 4,
     "metadata": {},
     "output_type": "execute_result"
    }
   ],
   "source": [
    "all_data_paths = list(Path(\"../data/allData\").glob(\"*/*/*.png\"))\n",
    "len(all_data_paths)"
   ]
  },
  {
   "cell_type": "code",
   "execution_count": 5,
   "metadata": {},
   "outputs": [],
   "source": [
    "data_setups.sort_out_noise(auto_transforms, tr_v0_64_1e5, \"tr_v0_64_1e5\", device, [\"bad\", \"good\"], all_data_paths, True, 0.5)"
   ]
  },
  {
   "cell_type": "code",
   "execution_count": 12,
   "metadata": {},
   "outputs": [
    {
     "name": "stdout",
     "output_type": "stream",
     "text": [
      "62 in Ear_1_1\n",
      "37 in Ear_1_2\n",
      "11 in Ear_2_1\n",
      "43 in Ear_2_2\n",
      "28 in Ear_3_1\n",
      "56 in Ear_4_1\n",
      "65 in Ear_4_2\n",
      "56 in Ear_5_1\n",
      "36 in Ear_5_2\n",
      "37 in Ear_6_1\n",
      "64 in Ear_6_2\n",
      "50 in Ear_7_1\n",
      "32 in Ear_7_2\n",
      "\n",
      "------------------------------------------\n",
      "\n",
      "54 in Nose_1_1\n",
      "50 in Nose_1_2\n",
      "79 in Nose_2_1\n",
      "73 in Nose_2_2\n",
      "95 in Nose_3_2\n",
      "2 in Nose_4_1\n",
      "32 in Nose_4_2\n",
      "4 in Nose_5_1\n",
      "34 in Nose_5_2\n",
      "4 in Nose_6_1\n",
      "38 in Nose_6_2\n",
      "\n",
      "------------------------------------------\n",
      "\n",
      "51 in Vocal_1\n",
      "36 in Vocal_2\n",
      "42 in Vocal_3\n",
      "53 in Vocal_4\n",
      "43 in Vocal_5\n",
      "57 in Vocal_6\n",
      "75 in Vocal_7\n",
      "55 in Vocal_8\n",
      "68 in Vocal_9\n",
      "\n",
      "------------------------------------------\n",
      "\n",
      "min image in one class: 465\n",
      "select 93 images for the test dataset and delete it from the base dir. In case you did't do it\n",
      "select 372 images for the test dataset and delete it from the base dir. In case you did't do it\n",
      "inter the test directories for each organ splited by \",\"\n"
     ]
    }
   ],
   "source": [
    "create_organ_dataset_n(Path(\"data/Organ_5\"), [\"Ear\", \"Nose\", \"VocalFolds\"], Path(\"../data/tr_v0_64_1e5/allData-clean-0.5\"))"
   ]
  },
  {
   "cell_type": "code",
   "execution_count": 13,
   "metadata": {},
   "outputs": [
    {
     "data": {
      "text/plain": [
       "1389"
      ]
     },
     "execution_count": 13,
     "metadata": {},
     "output_type": "execute_result"
    }
   ],
   "source": [
    "organ_5_paths = list(Path(\"data/organ_5/\").glob(\"*/*/*.png\"))\n",
    "len(organ_5_paths)"
   ]
  },
  {
   "cell_type": "code",
   "execution_count": 14,
   "metadata": {},
   "outputs": [],
   "source": [
    "for im in organ_5_paths:\n",
    "    resize.to_square_save(im, \"data/Organ_5/\")"
   ]
  },
  {
   "cell_type": "code",
   "execution_count": 15,
   "metadata": {},
   "outputs": [
    {
     "data": {
      "text/plain": [
       "{'dataset_dir': 'data/organ_5',\n",
       " 'project_name': 'Organ-Classifier-1',\n",
       " 'transforms_': [ToTensor(),\n",
       "  Normalize(mean=[0.485, 0.456, 0.406], std=[0.229, 0.224, 0.225])],\n",
       " 'name': 'organ_5',\n",
       " 'description': 'all the classes are equalized, the noise has been cleaned'}"
      ]
     },
     "execution_count": 15,
     "metadata": {},
     "output_type": "execute_result"
    }
   ],
   "source": [
    "organ_5_path = \"data/organ_5\"\n",
    "organ_5_config = dict(dataset_dir=organ_5_path,\n",
    "                      project_name=\"Organ-Classifier-1\",\n",
    "                      transforms_=[transforms.ToTensor(),\n",
    "                                   transforms.Normalize(mean=[0.485, 0.456, 0.406],std=[0.229, 0.224, 0.225])],\n",
    "                      name=\"organ_5\",\n",
    "                      description=\"all the classes are equalized, the noise has been cleaned\")\n",
    "organ_5_config"
   ]
  },
  {
   "cell_type": "code",
   "execution_count": 16,
   "metadata": {},
   "outputs": [
    {
     "data": {
      "text/html": [
       "Finishing last run (ID:xw43si74) before initializing another..."
      ],
      "text/plain": [
       "<IPython.core.display.HTML object>"
      ]
     },
     "metadata": {},
     "output_type": "display_data"
    },
    {
     "data": {
      "text/html": [
       "Waiting for W&B process to finish... <strong style=\"color:green\">(success).</strong>"
      ],
      "text/plain": [
       "<IPython.core.display.HTML object>"
      ]
     },
     "metadata": {},
     "output_type": "display_data"
    },
    {
     "data": {
      "text/html": [
       " View run <strong style=\"color:#cdcd00\">glamorous-night-41</strong> at: <a href='https://wandb.ai/d-ml/2023_endoscopy_classification_elsharkawi/runs/xw43si74' target=\"_blank\">https://wandb.ai/d-ml/2023_endoscopy_classification_elsharkawi/runs/xw43si74</a><br/>Synced 6 W&B file(s), 0 media file(s), 0 artifact file(s) and 0 other file(s)"
      ],
      "text/plain": [
       "<IPython.core.display.HTML object>"
      ]
     },
     "metadata": {},
     "output_type": "display_data"
    },
    {
     "data": {
      "text/html": [
       "Find logs at: <code>.\\wandb\\run-20230722_170352-xw43si74\\logs</code>"
      ],
      "text/plain": [
       "<IPython.core.display.HTML object>"
      ]
     },
     "metadata": {},
     "output_type": "display_data"
    },
    {
     "data": {
      "text/html": [
       "Successfully finished last run (ID:xw43si74). Initializing new run:<br/>"
      ],
      "text/plain": [
       "<IPython.core.display.HTML object>"
      ]
     },
     "metadata": {},
     "output_type": "display_data"
    },
    {
     "data": {
      "text/html": [
       "wandb version 0.15.5 is available!  To upgrade, please run:\n",
       " $ pip install wandb --upgrade"
      ],
      "text/plain": [
       "<IPython.core.display.HTML object>"
      ]
     },
     "metadata": {},
     "output_type": "display_data"
    },
    {
     "data": {
      "text/html": [
       "Tracking run with wandb version 0.15.4"
      ],
      "text/plain": [
       "<IPython.core.display.HTML object>"
      ]
     },
     "metadata": {},
     "output_type": "display_data"
    },
    {
     "data": {
      "text/html": [
       "Run data is saved locally in <code>d:\\BachelorArbeit\\GitClone\\2023_endoscopy_classification_elsharkawi\\Organ-Classifier\\wandb\\run-20230722_173854-x6bnqf6z</code>"
      ],
      "text/plain": [
       "<IPython.core.display.HTML object>"
      ]
     },
     "metadata": {},
     "output_type": "display_data"
    },
    {
     "data": {
      "text/html": [
       "Syncing run <strong><a href='https://wandb.ai/d-ml/Organ-Classifier-1/runs/x6bnqf6z' target=\"_blank\">polished-water-47</a></strong> to <a href='https://wandb.ai/d-ml/Organ-Classifier-1' target=\"_blank\">Weights & Biases</a> (<a href='https://wandb.me/run' target=\"_blank\">docs</a>)<br/>"
      ],
      "text/plain": [
       "<IPython.core.display.HTML object>"
      ]
     },
     "metadata": {},
     "output_type": "display_data"
    },
    {
     "data": {
      "text/html": [
       " View project at <a href='https://wandb.ai/d-ml/Organ-Classifier-1' target=\"_blank\">https://wandb.ai/d-ml/Organ-Classifier-1</a>"
      ],
      "text/plain": [
       "<IPython.core.display.HTML object>"
      ]
     },
     "metadata": {},
     "output_type": "display_data"
    },
    {
     "data": {
      "text/html": [
       " View run at <a href='https://wandb.ai/d-ml/Organ-Classifier-1/runs/x6bnqf6z' target=\"_blank\">https://wandb.ai/d-ml/Organ-Classifier-1/runs/x6bnqf6z</a>"
      ],
      "text/plain": [
       "<IPython.core.display.HTML object>"
      ]
     },
     "metadata": {},
     "output_type": "display_data"
    },
    {
     "data": {
      "text/html": [
       "Waiting for W&B process to finish... <strong style=\"color:green\">(success).</strong>"
      ],
      "text/plain": [
       "<IPython.core.display.HTML object>"
      ]
     },
     "metadata": {},
     "output_type": "display_data"
    },
    {
     "data": {
      "text/html": [
       " View run <strong style=\"color:#cdcd00\">polished-water-47</strong> at: <a href='https://wandb.ai/d-ml/Organ-Classifier-1/runs/x6bnqf6z' target=\"_blank\">https://wandb.ai/d-ml/Organ-Classifier-1/runs/x6bnqf6z</a><br/>Synced 5 W&B file(s), 0 media file(s), 2 artifact file(s) and 0 other file(s)"
      ],
      "text/plain": [
       "<IPython.core.display.HTML object>"
      ]
     },
     "metadata": {},
     "output_type": "display_data"
    },
    {
     "data": {
      "text/html": [
       "Find logs at: <code>.\\wandb\\run-20230722_173854-x6bnqf6z\\logs</code>"
      ],
      "text/plain": [
       "<IPython.core.display.HTML object>"
      ]
     },
     "metadata": {},
     "output_type": "display_data"
    }
   ],
   "source": [
    "data_setups.load_and_log_IF(organ_5_config)"
   ]
  },
  {
   "cell_type": "markdown",
   "metadata": {},
   "source": [
    "# logg EffNet to WandB"
   ]
  },
  {
   "cell_type": "code",
   "execution_count": 61,
   "metadata": {},
   "outputs": [
    {
     "data": {
      "text/html": [
       "wandb version 0.15.5 is available!  To upgrade, please run:\n",
       " $ pip install wandb --upgrade"
      ],
      "text/plain": [
       "<IPython.core.display.HTML object>"
      ]
     },
     "metadata": {},
     "output_type": "display_data"
    },
    {
     "data": {
      "text/html": [
       "Tracking run with wandb version 0.15.4"
      ],
      "text/plain": [
       "<IPython.core.display.HTML object>"
      ]
     },
     "metadata": {},
     "output_type": "display_data"
    },
    {
     "data": {
      "text/html": [
       "Run data is saved locally in <code>d:\\BachelorArbeit\\GitClone\\2023_endoscopy_classification_elsharkawi\\Organ-Classifier\\wandb\\run-20230721_135642-pvvehlc1</code>"
      ],
      "text/plain": [
       "<IPython.core.display.HTML object>"
      ]
     },
     "metadata": {},
     "output_type": "display_data"
    },
    {
     "data": {
      "text/html": [
       "Syncing run <strong><a href='https://wandb.ai/d-ml/Organ-Classifier-1/runs/pvvehlc1' target=\"_blank\">trim-donkey-10</a></strong> to <a href='https://wandb.ai/d-ml/Organ-Classifier-1' target=\"_blank\">Weights & Biases</a> (<a href='https://wandb.me/run' target=\"_blank\">docs</a>)<br/>"
      ],
      "text/plain": [
       "<IPython.core.display.HTML object>"
      ]
     },
     "metadata": {},
     "output_type": "display_data"
    },
    {
     "data": {
      "text/html": [
       " View project at <a href='https://wandb.ai/d-ml/Organ-Classifier-1' target=\"_blank\">https://wandb.ai/d-ml/Organ-Classifier-1</a>"
      ],
      "text/plain": [
       "<IPython.core.display.HTML object>"
      ]
     },
     "metadata": {},
     "output_type": "display_data"
    },
    {
     "data": {
      "text/html": [
       " View run at <a href='https://wandb.ai/d-ml/Organ-Classifier-1/runs/pvvehlc1' target=\"_blank\">https://wandb.ai/d-ml/Organ-Classifier-1/runs/pvvehlc1</a>"
      ],
      "text/plain": [
       "<IPython.core.display.HTML object>"
      ]
     },
     "metadata": {},
     "output_type": "display_data"
    },
    {
     "data": {
      "text/html": [
       "Waiting for W&B process to finish... <strong style=\"color:red\">(failed 1).</strong> Press Ctrl-C to abort syncing."
      ],
      "text/plain": [
       "<IPython.core.display.HTML object>"
      ]
     },
     "metadata": {},
     "output_type": "display_data"
    },
    {
     "data": {
      "text/html": [
       " View run <strong style=\"color:#cdcd00\">trim-donkey-10</strong> at: <a href='https://wandb.ai/d-ml/Organ-Classifier-1/runs/pvvehlc1' target=\"_blank\">https://wandb.ai/d-ml/Organ-Classifier-1/runs/pvvehlc1</a><br/>Synced 5 W&B file(s), 0 media file(s), 0 artifact file(s) and 0 other file(s)"
      ],
      "text/plain": [
       "<IPython.core.display.HTML object>"
      ]
     },
     "metadata": {},
     "output_type": "display_data"
    },
    {
     "data": {
      "text/html": [
       "Find logs at: <code>.\\wandb\\run-20230721_135642-pvvehlc1\\logs</code>"
      ],
      "text/plain": [
       "<IPython.core.display.HTML object>"
      ]
     },
     "metadata": {},
     "output_type": "display_data"
    },
    {
     "ename": "OSError",
     "evalue": "[WinError 1314] A required privilege is not held by the client: 'd:\\\\BachelorArbeit\\\\GitClone\\\\2023_endoscopy_classification_elsharkawi\\\\Organ-Classifier\\\\initialized_model.pth' -> 'd:\\\\BachelorArbeit\\\\GitClone\\\\2023_endoscopy_classification_elsharkawi\\\\Organ-Classifier\\\\wandb\\\\run-20230721_135642-pvvehlc1\\\\files\\\\initialized_model.pth'",
     "output_type": "error",
     "traceback": [
      "\u001b[1;31m---------------------------------------------------------------------------\u001b[0m",
      "\u001b[1;31mOSError\u001b[0m                                   Traceback (most recent call last)",
      "Cell \u001b[1;32mIn[61], line 8\u001b[0m\n\u001b[0;32m      1\u001b[0m model_config \u001b[39m=\u001b[39m \u001b[39mdict\u001b[39m(project_name\u001b[39m=\u001b[39m\u001b[39m\"\u001b[39m\u001b[39mOrgan-Classifier-1\u001b[39m\u001b[39m\"\u001b[39m,\n\u001b[0;32m      2\u001b[0m                     model_name\u001b[39m=\u001b[39m\u001b[39m\"\u001b[39m\u001b[39mefficientNet_b0\u001b[39m\u001b[39m\"\u001b[39m,\n\u001b[0;32m      3\u001b[0m                     description\u001b[39m=\u001b[39m\u001b[39m\"\u001b[39m\u001b[39mefficientnet unfrozen\u001b[39m\u001b[39m\"\u001b[39m,\n\u001b[0;32m      4\u001b[0m                     freeze_layers\u001b[39m=\u001b[39m\u001b[39mFalse\u001b[39;00m,\n\u001b[0;32m      5\u001b[0m                     num_classes\u001b[39m=\u001b[39m\u001b[39m3\u001b[39m)\n\u001b[0;32m      7\u001b[0m model_ \u001b[39m=\u001b[39m model_setups\u001b[39m.\u001b[39mefficientNet_b0(model_config[\u001b[39m'\u001b[39m\u001b[39mfreeze_layers\u001b[39m\u001b[39m'\u001b[39m],model_config[\u001b[39m'\u001b[39m\u001b[39mnum_classes\u001b[39m\u001b[39m'\u001b[39m], device)\n\u001b[1;32m----> 8\u001b[0m model_initialized \u001b[39m=\u001b[39m model_setups\u001b[39m.\u001b[39;49mbuild_model_and_log(model_,model_config)\n",
      "File \u001b[1;32md:\\BachelorArbeit\\GitClone\\2023_endoscopy_classification_elsharkawi\\Organ-Classifier\\..\\Helper_Modules\\model_setups.py:42\u001b[0m, in \u001b[0;36mbuild_model_and_log\u001b[1;34m(model, config)\u001b[0m\n\u001b[0;32m     38\u001b[0m     torch\u001b[39m.\u001b[39msave(model\u001b[39m.\u001b[39mstate_dict(), \u001b[39m\"\u001b[39m\u001b[39minitialized_model.pth\u001b[39m\u001b[39m\"\u001b[39m)\n\u001b[0;32m     40\u001b[0m     model_artifact\u001b[39m.\u001b[39madd_file(\u001b[39m\"\u001b[39m\u001b[39minitialized_model.pth\u001b[39m\u001b[39m\"\u001b[39m)\n\u001b[1;32m---> 42\u001b[0m     wandb\u001b[39m.\u001b[39;49msave(\u001b[39m\"\u001b[39;49m\u001b[39minitialized_model.pth\u001b[39;49m\u001b[39m\"\u001b[39;49m)\n\u001b[0;32m     44\u001b[0m     run\u001b[39m.\u001b[39mlog_artifact(model_artifact)\n\u001b[0;32m     45\u001b[0m \u001b[39mreturn\u001b[39;00m model\n",
      "File \u001b[1;32mc:\\Users\\AbdelrahmanE\\AppData\\Local\\anaconda3\\envs\\pytorchv2\\lib\\site-packages\\wandb\\sdk\\wandb_run.py:342\u001b[0m, in \u001b[0;36m_run_decorator._noop_on_finish.<locals>.decorator_fn.<locals>.wrapper_fn\u001b[1;34m(self, *args, **kwargs)\u001b[0m\n\u001b[0;32m    339\u001b[0m \u001b[39m@functools\u001b[39m\u001b[39m.\u001b[39mwraps(func)\n\u001b[0;32m    340\u001b[0m \u001b[39mdef\u001b[39;00m \u001b[39mwrapper_fn\u001b[39m(\u001b[39mself\u001b[39m: Type[\u001b[39m\"\u001b[39m\u001b[39mRun\u001b[39m\u001b[39m\"\u001b[39m], \u001b[39m*\u001b[39margs: Any, \u001b[39m*\u001b[39m\u001b[39m*\u001b[39mkwargs: Any) \u001b[39m-\u001b[39m\u001b[39m>\u001b[39m Any:\n\u001b[0;32m    341\u001b[0m     \u001b[39mif\u001b[39;00m \u001b[39mnot\u001b[39;00m \u001b[39mgetattr\u001b[39m(\u001b[39mself\u001b[39m, \u001b[39m\"\u001b[39m\u001b[39m_is_finished\u001b[39m\u001b[39m\"\u001b[39m, \u001b[39mFalse\u001b[39;00m):\n\u001b[1;32m--> 342\u001b[0m         \u001b[39mreturn\u001b[39;00m func(\u001b[39mself\u001b[39m, \u001b[39m*\u001b[39margs, \u001b[39m*\u001b[39m\u001b[39m*\u001b[39mkwargs)\n\u001b[0;32m    344\u001b[0m     default_message \u001b[39m=\u001b[39m (\n\u001b[0;32m    345\u001b[0m         \u001b[39mf\u001b[39m\u001b[39m\"\u001b[39m\u001b[39mRun (\u001b[39m\u001b[39m{\u001b[39;00m\u001b[39mself\u001b[39m\u001b[39m.\u001b[39mid\u001b[39m}\u001b[39;00m\u001b[39m) is finished. The call to `\u001b[39m\u001b[39m{\u001b[39;00mfunc\u001b[39m.\u001b[39m\u001b[39m__name__\u001b[39m\u001b[39m}\u001b[39;00m\u001b[39m` will be ignored. \u001b[39m\u001b[39m\"\u001b[39m\n\u001b[0;32m    346\u001b[0m         \u001b[39mf\u001b[39m\u001b[39m\"\u001b[39m\u001b[39mPlease make sure that you are using an active run.\u001b[39m\u001b[39m\"\u001b[39m\n\u001b[0;32m    347\u001b[0m     )\n\u001b[0;32m    348\u001b[0m     resolved_message \u001b[39m=\u001b[39m message \u001b[39mor\u001b[39;00m default_message\n",
      "File \u001b[1;32mc:\\Users\\AbdelrahmanE\\AppData\\Local\\anaconda3\\envs\\pytorchv2\\lib\\site-packages\\wandb\\sdk\\wandb_run.py:332\u001b[0m, in \u001b[0;36m_run_decorator._attach.<locals>.wrapper\u001b[1;34m(self, *args, **kwargs)\u001b[0m\n\u001b[0;32m    330\u001b[0m         \u001b[39mraise\u001b[39;00m e\n\u001b[0;32m    331\u001b[0m     \u001b[39mcls\u001b[39m\u001b[39m.\u001b[39m_is_attaching \u001b[39m=\u001b[39m \u001b[39m\"\u001b[39m\u001b[39m\"\u001b[39m\n\u001b[1;32m--> 332\u001b[0m \u001b[39mreturn\u001b[39;00m func(\u001b[39mself\u001b[39m, \u001b[39m*\u001b[39margs, \u001b[39m*\u001b[39m\u001b[39m*\u001b[39mkwargs)\n",
      "File \u001b[1;32mc:\\Users\\AbdelrahmanE\\AppData\\Local\\anaconda3\\envs\\pytorchv2\\lib\\site-packages\\wandb\\sdk\\wandb_run.py:1780\u001b[0m, in \u001b[0;36mRun.save\u001b[1;34m(self, glob_str, base_path, policy)\u001b[0m\n\u001b[0;32m   1771\u001b[0m     deprecate\u001b[39m.\u001b[39mdeprecate(\n\u001b[0;32m   1772\u001b[0m         field_name\u001b[39m=\u001b[39mdeprecate\u001b[39m.\u001b[39mDeprecated\u001b[39m.\u001b[39mrun__save_no_args,\n\u001b[0;32m   1773\u001b[0m         warning_message\u001b[39m=\u001b[39m(\n\u001b[1;32m   (...)\u001b[0m\n\u001b[0;32m   1776\u001b[0m         ),\n\u001b[0;32m   1777\u001b[0m     )\n\u001b[0;32m   1778\u001b[0m     \u001b[39mreturn\u001b[39;00m \u001b[39mTrue\u001b[39;00m\n\u001b[1;32m-> 1780\u001b[0m \u001b[39mreturn\u001b[39;00m \u001b[39mself\u001b[39;49m\u001b[39m.\u001b[39;49m_save(glob_str, base_path, policy)\n",
      "File \u001b[1;32mc:\\Users\\AbdelrahmanE\\AppData\\Local\\anaconda3\\envs\\pytorchv2\\lib\\site-packages\\wandb\\sdk\\wandb_run.py:1834\u001b[0m, in \u001b[0;36mRun._save\u001b[1;34m(self, glob_str, base_path, policy)\u001b[0m\n\u001b[0;32m   1832\u001b[0m         os\u001b[39m.\u001b[39msymlink(abs_path, wandb_path)\n\u001b[0;32m   1833\u001b[0m     \u001b[39melif\u001b[39;00m \u001b[39mnot\u001b[39;00m os\u001b[39m.\u001b[39mpath\u001b[39m.\u001b[39mexists(wandb_path):\n\u001b[1;32m-> 1834\u001b[0m         os\u001b[39m.\u001b[39;49msymlink(abs_path, wandb_path)\n\u001b[0;32m   1835\u001b[0m     files\u001b[39m.\u001b[39mappend(wandb_path)\n\u001b[0;32m   1836\u001b[0m \u001b[39mif\u001b[39;00m warn:\n",
      "\u001b[1;31mOSError\u001b[0m: [WinError 1314] A required privilege is not held by the client: 'd:\\\\BachelorArbeit\\\\GitClone\\\\2023_endoscopy_classification_elsharkawi\\\\Organ-Classifier\\\\initialized_model.pth' -> 'd:\\\\BachelorArbeit\\\\GitClone\\\\2023_endoscopy_classification_elsharkawi\\\\Organ-Classifier\\\\wandb\\\\run-20230721_135642-pvvehlc1\\\\files\\\\initialized_model.pth'"
     ]
    }
   ],
   "source": [
    "model_config = dict(project_name=\"Organ-Classifier-1\",\n",
    "                    model_name=\"efficientNet_b0\",\n",
    "                    description=\"efficientnet unfrozen\",\n",
    "                    freeze_layers=False,\n",
    "                    num_classes=3)\n",
    "\n",
    "model_ = model_setups.efficientNet_b0(model_config['freeze_layers'],model_config['num_classes'], device)\n",
    "model_initialized = model_setups.build_model_and_log(model_,model_config)"
   ]
  },
  {
   "cell_type": "markdown",
   "metadata": {},
   "source": [
    "# download dataset v4 and v5 from WandB"
   ]
  },
  {
   "cell_type": "code",
   "execution_count": 2,
   "metadata": {},
   "outputs": [
    {
     "name": "stderr",
     "output_type": "stream",
     "text": [
      "Failed to detect the name of this notebook, you can set it manually with the WANDB_NOTEBOOK_NAME environment variable to enable code saving.\n",
      "\u001b[34m\u001b[1mwandb\u001b[0m: Currently logged in as: \u001b[33melsharkawi99\u001b[0m (\u001b[33md-ml\u001b[0m). Use \u001b[1m`wandb login --relogin`\u001b[0m to force relogin\n"
     ]
    },
    {
     "data": {
      "text/html": [
       "wandb version 0.15.5 is available!  To upgrade, please run:\n",
       " $ pip install wandb --upgrade"
      ],
      "text/plain": [
       "<IPython.core.display.HTML object>"
      ]
     },
     "metadata": {},
     "output_type": "display_data"
    },
    {
     "data": {
      "text/html": [
       "Tracking run with wandb version 0.15.3"
      ],
      "text/plain": [
       "<IPython.core.display.HTML object>"
      ]
     },
     "metadata": {},
     "output_type": "display_data"
    },
    {
     "data": {
      "text/html": [
       "Run data is saved locally in <code>/home/cluster_home/elsharkawi/2023_endoscopy_classification_elsharkawi/Organ-Classifier/wandb/run-20230722_204839-ugosmesw</code>"
      ],
      "text/plain": [
       "<IPython.core.display.HTML object>"
      ]
     },
     "metadata": {},
     "output_type": "display_data"
    },
    {
     "data": {
      "text/html": [
       "Syncing run <strong><a href='https://wandb.ai/d-ml/2023_endoscopy_classification_elsharkawi-Organ-Classifier/runs/ugosmesw' target=\"_blank\">serene-pond-14</a></strong> to <a href='https://wandb.ai/d-ml/2023_endoscopy_classification_elsharkawi-Organ-Classifier' target=\"_blank\">Weights & Biases</a> (<a href='https://wandb.me/run' target=\"_blank\">docs</a>)<br/>"
      ],
      "text/plain": [
       "<IPython.core.display.HTML object>"
      ]
     },
     "metadata": {},
     "output_type": "display_data"
    },
    {
     "data": {
      "text/html": [
       " View project at <a href='https://wandb.ai/d-ml/2023_endoscopy_classification_elsharkawi-Organ-Classifier' target=\"_blank\">https://wandb.ai/d-ml/2023_endoscopy_classification_elsharkawi-Organ-Classifier</a>"
      ],
      "text/plain": [
       "<IPython.core.display.HTML object>"
      ]
     },
     "metadata": {},
     "output_type": "display_data"
    },
    {
     "data": {
      "text/html": [
       " View run at <a href='https://wandb.ai/d-ml/2023_endoscopy_classification_elsharkawi-Organ-Classifier/runs/ugosmesw' target=\"_blank\">https://wandb.ai/d-ml/2023_endoscopy_classification_elsharkawi-Organ-Classifier/runs/ugosmesw</a>"
      ],
      "text/plain": [
       "<IPython.core.display.HTML object>"
      ]
     },
     "metadata": {},
     "output_type": "display_data"
    },
    {
     "name": "stderr",
     "output_type": "stream",
     "text": [
      "\u001b[34m\u001b[1mwandb\u001b[0m: Downloading large artifact organ_4:v0, 821.72MB. 2 files... \n",
      "\u001b[34m\u001b[1mwandb\u001b[0m:   2 of 2 files downloaded.  \n",
      "Done. 0:0:3.8\n"
     ]
    },
    {
     "data": {
      "text/html": [
       "Finishing last run (ID:ugosmesw) before initializing another..."
      ],
      "text/plain": [
       "<IPython.core.display.HTML object>"
      ]
     },
     "metadata": {},
     "output_type": "display_data"
    },
    {
     "data": {
      "text/html": [
       "Waiting for W&B process to finish... <strong style=\"color:green\">(success).</strong>"
      ],
      "text/plain": [
       "<IPython.core.display.HTML object>"
      ]
     },
     "metadata": {},
     "output_type": "display_data"
    },
    {
     "data": {
      "application/vnd.jupyter.widget-view+json": {
       "model_id": "e6aac86186504f1f906dd1dd135cbd42",
       "version_major": 2,
       "version_minor": 0
      },
      "text/plain": [
       "VBox(children=(Label(value='0.011 MB of 0.011 MB uploaded (0.000 MB deduped)\\r'), FloatProgress(value=1.0, max…"
      ]
     },
     "metadata": {},
     "output_type": "display_data"
    },
    {
     "data": {
      "text/html": [
       " View run <strong style=\"color:#cdcd00\">serene-pond-14</strong> at: <a href='https://wandb.ai/d-ml/2023_endoscopy_classification_elsharkawi-Organ-Classifier/runs/ugosmesw' target=\"_blank\">https://wandb.ai/d-ml/2023_endoscopy_classification_elsharkawi-Organ-Classifier/runs/ugosmesw</a><br/>Synced 6 W&B file(s), 0 media file(s), 0 artifact file(s) and 0 other file(s)"
      ],
      "text/plain": [
       "<IPython.core.display.HTML object>"
      ]
     },
     "metadata": {},
     "output_type": "display_data"
    },
    {
     "data": {
      "text/html": [
       "Find logs at: <code>./wandb/run-20230722_204839-ugosmesw/logs</code>"
      ],
      "text/plain": [
       "<IPython.core.display.HTML object>"
      ]
     },
     "metadata": {},
     "output_type": "display_data"
    },
    {
     "data": {
      "text/html": [
       "Successfully finished last run (ID:ugosmesw). Initializing new run:<br/>"
      ],
      "text/plain": [
       "<IPython.core.display.HTML object>"
      ]
     },
     "metadata": {},
     "output_type": "display_data"
    },
    {
     "data": {
      "application/vnd.jupyter.widget-view+json": {
       "model_id": "e18be6eabe194afcb3f0bf6be4e42584",
       "version_major": 2,
       "version_minor": 0
      },
      "text/plain": [
       "VBox(children=(Label(value='Waiting for wandb.init()...\\r'), FloatProgress(value=0.016668594380219778, max=1.0…"
      ]
     },
     "metadata": {},
     "output_type": "display_data"
    },
    {
     "data": {
      "text/html": [
       "wandb version 0.15.5 is available!  To upgrade, please run:\n",
       " $ pip install wandb --upgrade"
      ],
      "text/plain": [
       "<IPython.core.display.HTML object>"
      ]
     },
     "metadata": {},
     "output_type": "display_data"
    },
    {
     "data": {
      "text/html": [
       "Tracking run with wandb version 0.15.3"
      ],
      "text/plain": [
       "<IPython.core.display.HTML object>"
      ]
     },
     "metadata": {},
     "output_type": "display_data"
    },
    {
     "data": {
      "text/html": [
       "Run data is saved locally in <code>/home/cluster_home/elsharkawi/2023_endoscopy_classification_elsharkawi/Organ-Classifier/wandb/run-20230722_204851-bfs7qw41</code>"
      ],
      "text/plain": [
       "<IPython.core.display.HTML object>"
      ]
     },
     "metadata": {},
     "output_type": "display_data"
    },
    {
     "data": {
      "text/html": [
       "Syncing run <strong><a href='https://wandb.ai/d-ml/2023_endoscopy_classification_elsharkawi-Organ-Classifier/runs/bfs7qw41' target=\"_blank\">smooth-feather-15</a></strong> to <a href='https://wandb.ai/d-ml/2023_endoscopy_classification_elsharkawi-Organ-Classifier' target=\"_blank\">Weights & Biases</a> (<a href='https://wandb.me/run' target=\"_blank\">docs</a>)<br/>"
      ],
      "text/plain": [
       "<IPython.core.display.HTML object>"
      ]
     },
     "metadata": {},
     "output_type": "display_data"
    },
    {
     "data": {
      "text/html": [
       " View project at <a href='https://wandb.ai/d-ml/2023_endoscopy_classification_elsharkawi-Organ-Classifier' target=\"_blank\">https://wandb.ai/d-ml/2023_endoscopy_classification_elsharkawi-Organ-Classifier</a>"
      ],
      "text/plain": [
       "<IPython.core.display.HTML object>"
      ]
     },
     "metadata": {},
     "output_type": "display_data"
    },
    {
     "data": {
      "text/html": [
       " View run at <a href='https://wandb.ai/d-ml/2023_endoscopy_classification_elsharkawi-Organ-Classifier/runs/bfs7qw41' target=\"_blank\">https://wandb.ai/d-ml/2023_endoscopy_classification_elsharkawi-Organ-Classifier/runs/bfs7qw41</a>"
      ],
      "text/plain": [
       "<IPython.core.display.HTML object>"
      ]
     },
     "metadata": {},
     "output_type": "display_data"
    },
    {
     "name": "stderr",
     "output_type": "stream",
     "text": [
      "\u001b[34m\u001b[1mwandb\u001b[0m: Downloading large artifact organ_5:v0, 797.60MB. 2 files... \n",
      "\u001b[34m\u001b[1mwandb\u001b[0m:   2 of 2 files downloaded.  \n",
      "Done. 0:0:22.2\n"
     ]
    }
   ],
   "source": [
    "train_dataset_v4, test_dataset_v4 = utils.load_data_wandb({\"project_name\":\"Organ-Classifier-1\",\n",
    "                                                     \"dataset_name\":\"organ_4:v0\",\n",
    "                                                     \"download\":True})\n",
    "\n",
    "train_dataset_v5, test_dataset_v5 = utils.load_data_wandb({\"project_name\":\"Organ-Classifier-1\",\n",
    "                                                     \"dataset_name\":\"organ_5:v0\",\n",
    "                                                     \"download\":True})"
   ]
  },
  {
   "cell_type": "markdown",
   "metadata": {},
   "source": [
    "# V6 train clean test noisy\n",
    "- train from V5 \n",
    "- test from V4\n",
    "\n",
    "copy the .pt files from the downloaded datasets under artifacts/datasets and place it under data/organ_6"
   ]
  },
  {
   "cell_type": "code",
   "execution_count": 12,
   "metadata": {},
   "outputs": [],
   "source": [
    "def copy_datasets(dest_path, train_path, test_path):\n",
    "    os.makedirs(dest_path, exist_ok=True)\n",
    "    shutil.copy(train_path, dest_path)\n",
    "    shutil.copy(test_path, dest_path)"
   ]
  },
  {
   "cell_type": "code",
   "execution_count": 13,
   "metadata": {},
   "outputs": [],
   "source": [
    "copy_datasets(\"data/organ_6\", \"artifacts/datasets/organ_5:v0/train.pt\", \"artifacts/datasets/organ_4:v0/test.pt\")"
   ]
  },
  {
   "cell_type": "code",
   "execution_count": 14,
   "metadata": {},
   "outputs": [
    {
     "data": {
      "text/html": [
       "Finishing last run (ID:bfs7qw41) before initializing another..."
      ],
      "text/plain": [
       "<IPython.core.display.HTML object>"
      ]
     },
     "metadata": {},
     "output_type": "display_data"
    },
    {
     "data": {
      "text/html": [
       "Waiting for W&B process to finish... <strong style=\"color:green\">(success).</strong>"
      ],
      "text/plain": [
       "<IPython.core.display.HTML object>"
      ]
     },
     "metadata": {},
     "output_type": "display_data"
    },
    {
     "data": {
      "application/vnd.jupyter.widget-view+json": {
       "model_id": "3fbe1d24ad954d2eaa5845c3590d6d87",
       "version_major": 2,
       "version_minor": 0
      },
      "text/plain": [
       "VBox(children=(Label(value='0.011 MB of 0.018 MB uploaded (0.000 MB deduped)\\r'), FloatProgress(value=0.598581…"
      ]
     },
     "metadata": {},
     "output_type": "display_data"
    },
    {
     "data": {
      "text/html": [
       " View run <strong style=\"color:#cdcd00\">smooth-feather-15</strong> at: <a href='https://wandb.ai/d-ml/2023_endoscopy_classification_elsharkawi-Organ-Classifier/runs/bfs7qw41' target=\"_blank\">https://wandb.ai/d-ml/2023_endoscopy_classification_elsharkawi-Organ-Classifier/runs/bfs7qw41</a><br/>Synced 6 W&B file(s), 0 media file(s), 0 artifact file(s) and 0 other file(s)"
      ],
      "text/plain": [
       "<IPython.core.display.HTML object>"
      ]
     },
     "metadata": {},
     "output_type": "display_data"
    },
    {
     "data": {
      "text/html": [
       "Find logs at: <code>./wandb/run-20230722_204851-bfs7qw41/logs</code>"
      ],
      "text/plain": [
       "<IPython.core.display.HTML object>"
      ]
     },
     "metadata": {},
     "output_type": "display_data"
    },
    {
     "data": {
      "text/html": [
       "Successfully finished last run (ID:bfs7qw41). Initializing new run:<br/>"
      ],
      "text/plain": [
       "<IPython.core.display.HTML object>"
      ]
     },
     "metadata": {},
     "output_type": "display_data"
    },
    {
     "data": {
      "application/vnd.jupyter.widget-view+json": {
       "model_id": "63eaad5559854b21bc8c433ed31c58cb",
       "version_major": 2,
       "version_minor": 0
      },
      "text/plain": [
       "VBox(children=(Label(value='Waiting for wandb.init()...\\r'), FloatProgress(value=0.01666905985524257, max=1.0)…"
      ]
     },
     "metadata": {},
     "output_type": "display_data"
    },
    {
     "data": {
      "text/html": [
       "wandb version 0.15.5 is available!  To upgrade, please run:\n",
       " $ pip install wandb --upgrade"
      ],
      "text/plain": [
       "<IPython.core.display.HTML object>"
      ]
     },
     "metadata": {},
     "output_type": "display_data"
    },
    {
     "data": {
      "text/html": [
       "Tracking run with wandb version 0.15.3"
      ],
      "text/plain": [
       "<IPython.core.display.HTML object>"
      ]
     },
     "metadata": {},
     "output_type": "display_data"
    },
    {
     "data": {
      "text/html": [
       "Run data is saved locally in <code>/home/cluster_home/elsharkawi/2023_endoscopy_classification_elsharkawi/Organ-Classifier/wandb/run-20230722_211316-84n7hjpb</code>"
      ],
      "text/plain": [
       "<IPython.core.display.HTML object>"
      ]
     },
     "metadata": {},
     "output_type": "display_data"
    },
    {
     "data": {
      "text/html": [
       "Syncing run <strong><a href='https://wandb.ai/d-ml/Organ-Classifier-1/runs/84n7hjpb' target=\"_blank\">rare-puddle-52</a></strong> to <a href='https://wandb.ai/d-ml/Organ-Classifier-1' target=\"_blank\">Weights & Biases</a> (<a href='https://wandb.me/run' target=\"_blank\">docs</a>)<br/>"
      ],
      "text/plain": [
       "<IPython.core.display.HTML object>"
      ]
     },
     "metadata": {},
     "output_type": "display_data"
    },
    {
     "data": {
      "text/html": [
       " View project at <a href='https://wandb.ai/d-ml/Organ-Classifier-1' target=\"_blank\">https://wandb.ai/d-ml/Organ-Classifier-1</a>"
      ],
      "text/plain": [
       "<IPython.core.display.HTML object>"
      ]
     },
     "metadata": {},
     "output_type": "display_data"
    },
    {
     "data": {
      "text/html": [
       " View run at <a href='https://wandb.ai/d-ml/Organ-Classifier-1/runs/84n7hjpb' target=\"_blank\">https://wandb.ai/d-ml/Organ-Classifier-1/runs/84n7hjpb</a>"
      ],
      "text/plain": [
       "<IPython.core.display.HTML object>"
      ]
     },
     "metadata": {},
     "output_type": "display_data"
    },
    {
     "name": "stderr",
     "output_type": "stream",
     "text": [
      "\u001b[34m\u001b[1mwandb\u001b[0m: Adding directory to artifact (./data/organ_6)... Done. 7.4s\n"
     ]
    },
    {
     "data": {
      "text/plain": [
       "<wandb.sdk.wandb_artifacts.Artifact at 0x7f97e1c732b0>"
      ]
     },
     "execution_count": 14,
     "metadata": {},
     "output_type": "execute_result"
    }
   ],
   "source": [
    "# v6 consists of train.pt from v5 and test.pt from v4. # The dictionaries are here just to log into WandB, but the datasets are already processed \n",
    "v6_dict = {\"train_dataset\":{\"Ear\":\"370\", \"Nose\":\"370\", \"sum\":\"1110\",\"VocalFolds\":\"370\"},\n",
    " \"test_dataset\":{\"Ear\":\"98\", \"Nose\":\"98\", \"sum\":\"294\",\"VocalFolds\":\"98\"}}\n",
    "organ_6_config = dict(dataset_dir=\"data/organ_6/\",\n",
    "                      project_name=\"Organ-Classifier-1\",\n",
    "                      transforms_=[transforms.ToTensor(),\n",
    "                                   transforms.Normalize(mean=[0.485, 0.456, 0.406],std=[0.229, 0.224, 0.225])],\n",
    "                      name=\"organ_6\",\n",
    "                      description=\"all the classes are equalized, the noise has been cleaned just from the train\")\n",
    "wandb.init(project=\"Organ-Classifier-1\", config=organ_6_config, job_type=\"load_data\")\n",
    "\n",
    "artifact = wandb.Artifact(name=organ_6_config[\"name\"],\n",
    "                              type=\"dataset\",\n",
    "                              description=organ_6_config[\"description\"],\n",
    "                              metadata=v6_dict)\n",
    "artifact.add_dir(\"data/organ_6/\")\n",
    "wandb.log_artifact(artifact)"
   ]
  },
  {
   "cell_type": "markdown",
   "metadata": {},
   "source": [
    "# V7 train noisy test clean\n",
    "- train from V4 \n",
    "- test from V5\n",
    "\n",
    "copy the .pt files from the downloaded datasets under artifacts/datasets and place it under data/organ_7"
   ]
  },
  {
   "cell_type": "code",
   "execution_count": 15,
   "metadata": {},
   "outputs": [],
   "source": [
    "copy_datasets(\"data/organ_7\", \"artifacts/datasets/organ_4:v0/train.pt\", \"artifacts/datasets/organ_5:v0/test.pt\")"
   ]
  },
  {
   "cell_type": "code",
   "execution_count": 16,
   "metadata": {},
   "outputs": [
    {
     "data": {
      "text/html": [
       "Finishing last run (ID:84n7hjpb) before initializing another..."
      ],
      "text/plain": [
       "<IPython.core.display.HTML object>"
      ]
     },
     "metadata": {},
     "output_type": "display_data"
    },
    {
     "data": {
      "text/html": [
       "Waiting for W&B process to finish... <strong style=\"color:green\">(success).</strong>"
      ],
      "text/plain": [
       "<IPython.core.display.HTML object>"
      ]
     },
     "metadata": {},
     "output_type": "display_data"
    },
    {
     "data": {
      "application/vnd.jupyter.widget-view+json": {
       "model_id": "468cc03fbbca4e589a9fcfe6ba09a2f3",
       "version_major": 2,
       "version_minor": 0
      },
      "text/plain": [
       "VBox(children=(Label(value='806.226 MB of 806.226 MB uploaded (0.000 MB deduped)\\r'), FloatProgress(value=1.0,…"
      ]
     },
     "metadata": {},
     "output_type": "display_data"
    },
    {
     "data": {
      "text/html": [
       " View run <strong style=\"color:#cdcd00\">rare-puddle-52</strong> at: <a href='https://wandb.ai/d-ml/Organ-Classifier-1/runs/84n7hjpb' target=\"_blank\">https://wandb.ai/d-ml/Organ-Classifier-1/runs/84n7hjpb</a><br/>Synced 6 W&B file(s), 0 media file(s), 2 artifact file(s) and 0 other file(s)"
      ],
      "text/plain": [
       "<IPython.core.display.HTML object>"
      ]
     },
     "metadata": {},
     "output_type": "display_data"
    },
    {
     "data": {
      "text/html": [
       "Find logs at: <code>./wandb/run-20230722_211316-84n7hjpb/logs</code>"
      ],
      "text/plain": [
       "<IPython.core.display.HTML object>"
      ]
     },
     "metadata": {},
     "output_type": "display_data"
    },
    {
     "data": {
      "text/html": [
       "Successfully finished last run (ID:84n7hjpb). Initializing new run:<br/>"
      ],
      "text/plain": [
       "<IPython.core.display.HTML object>"
      ]
     },
     "metadata": {},
     "output_type": "display_data"
    },
    {
     "data": {
      "application/vnd.jupyter.widget-view+json": {
       "model_id": "5334e4de2430486583322cf06fa6058d",
       "version_major": 2,
       "version_minor": 0
      },
      "text/plain": [
       "VBox(children=(Label(value='Waiting for wandb.init()...\\r'), FloatProgress(value=0.016668935182193916, max=1.0…"
      ]
     },
     "metadata": {},
     "output_type": "display_data"
    },
    {
     "data": {
      "text/html": [
       "wandb version 0.15.5 is available!  To upgrade, please run:\n",
       " $ pip install wandb --upgrade"
      ],
      "text/plain": [
       "<IPython.core.display.HTML object>"
      ]
     },
     "metadata": {},
     "output_type": "display_data"
    },
    {
     "data": {
      "text/html": [
       "Tracking run with wandb version 0.15.3"
      ],
      "text/plain": [
       "<IPython.core.display.HTML object>"
      ]
     },
     "metadata": {},
     "output_type": "display_data"
    },
    {
     "data": {
      "text/html": [
       "Run data is saved locally in <code>/home/cluster_home/elsharkawi/2023_endoscopy_classification_elsharkawi/Organ-Classifier/wandb/run-20230722_211726-88tozrm7</code>"
      ],
      "text/plain": [
       "<IPython.core.display.HTML object>"
      ]
     },
     "metadata": {},
     "output_type": "display_data"
    },
    {
     "data": {
      "text/html": [
       "Syncing run <strong><a href='https://wandb.ai/d-ml/Organ-Classifier-1/runs/88tozrm7' target=\"_blank\">laced-feather-53</a></strong> to <a href='https://wandb.ai/d-ml/Organ-Classifier-1' target=\"_blank\">Weights & Biases</a> (<a href='https://wandb.me/run' target=\"_blank\">docs</a>)<br/>"
      ],
      "text/plain": [
       "<IPython.core.display.HTML object>"
      ]
     },
     "metadata": {},
     "output_type": "display_data"
    },
    {
     "data": {
      "text/html": [
       " View project at <a href='https://wandb.ai/d-ml/Organ-Classifier-1' target=\"_blank\">https://wandb.ai/d-ml/Organ-Classifier-1</a>"
      ],
      "text/plain": [
       "<IPython.core.display.HTML object>"
      ]
     },
     "metadata": {},
     "output_type": "display_data"
    },
    {
     "data": {
      "text/html": [
       " View run at <a href='https://wandb.ai/d-ml/Organ-Classifier-1/runs/88tozrm7' target=\"_blank\">https://wandb.ai/d-ml/Organ-Classifier-1/runs/88tozrm7</a>"
      ],
      "text/plain": [
       "<IPython.core.display.HTML object>"
      ]
     },
     "metadata": {},
     "output_type": "display_data"
    },
    {
     "name": "stderr",
     "output_type": "stream",
     "text": [
      "\u001b[34m\u001b[1mwandb\u001b[0m: Adding directory to artifact (./data/organ_7)... Done. 7.5s\n"
     ]
    },
    {
     "data": {
      "text/plain": [
       "<wandb.sdk.wandb_artifacts.Artifact at 0x7f98a18024d0>"
      ]
     },
     "execution_count": 16,
     "metadata": {},
     "output_type": "execute_result"
    }
   ],
   "source": [
    "# v7 consists of train.pt from v4 and test.pt from v5\n",
    "v7_dict = {\"train_dataset\":{\"Ear\":\"379\", \"Nose\":\"379\", \"sum\":\"1137\",\"VocalFolds\":\"379\"},\n",
    " \"test_dataset\":{\"Ear\":\"93\", \"Nose\":\"93\", \"sum\":\"279\",\"VocalFolds\":\"93\"}}\n",
    "organ_7_config = dict(dataset_dir=\"data/organ_7/\",\n",
    "                      project_name=\"Organ-Classifier-1\",\n",
    "                      transforms_=[transforms.ToTensor(),\n",
    "                                   transforms.Normalize(mean=[0.485, 0.456, 0.406],std=[0.229, 0.224, 0.225])],\n",
    "                      name=\"organ_7\",\n",
    "                      description=\"all the classes are equalized, the noise has been cleaned just from the test\")\n",
    "wandb.init(project=\"Organ-Classifier-1\", config=organ_7_config, job_type=\"load_data\")\n",
    "\n",
    "artifact = wandb.Artifact(name=organ_7_config[\"name\"],\n",
    "                              type=\"dataset\",\n",
    "                              description=organ_7_config[\"description\"],\n",
    "                              metadata=v7_dict)\n",
    "artifact.add_dir(\"data/organ_7/\")\n",
    "wandb.log_artifact(artifact)"
   ]
  }
 ],
 "metadata": {
  "kernelspec": {
   "display_name": "pytorchv2",
   "language": "python",
   "name": "python3"
  },
  "language_info": {
   "codemirror_mode": {
    "name": "ipython",
    "version": 3
   },
   "file_extension": ".py",
   "mimetype": "text/x-python",
   "name": "python",
   "nbconvert_exporter": "python",
   "pygments_lexer": "ipython3",
   "version": "3.10.11"
  },
  "orig_nbformat": 4
 },
 "nbformat": 4,
 "nbformat_minor": 2
}
